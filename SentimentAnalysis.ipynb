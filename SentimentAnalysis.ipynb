{
  "cells": [
    {
      "cell_type": "code",
      "execution_count": 2,
      "metadata": {
        "id": "tzeaA1fF6EdY"
      },
      "outputs": [],
      "source": [
        "from keras.layers import LSTM, Dense, Embedding\n",
        "from keras.models import Sequential\n",
        "from keras.preprocessing import sequence\n",
        "from keras.datasets import imdb"
      ]
    },
    {
      "cell_type": "code",
      "execution_count": 3,
      "metadata": {
        "id": "JCoiAv7i6EdZ",
        "outputId": "68cf3c75-5e55-45c2-cd05-442465e49cf1",
        "colab": {
          "base_uri": "https://localhost:8080/"
        }
      },
      "outputs": [
        {
          "output_type": "stream",
          "name": "stdout",
          "text": [
            "Downloading data from https://storage.googleapis.com/tensorflow/tf-keras-datasets/imdb.npz\n",
            "17465344/17464789 [==============================] - 0s 0us/step\n",
            "17473536/17464789 [==============================] - 0s 0us/step\n"
          ]
        }
      ],
      "source": [
        "(X_train, y_train), (X_test, y_test) = imdb.load_data(num_words=25000)"
      ]
    },
    {
      "cell_type": "code",
      "execution_count": 4,
      "metadata": {
        "id": "bvORTCIB6Eda",
        "outputId": "cac391a1-18c4-424a-f9fc-547deeacdeab",
        "colab": {
          "base_uri": "https://localhost:8080/"
        }
      },
      "outputs": [
        {
          "output_type": "execute_result",
          "data": {
            "text/plain": [
              "array([[   0,    0,    0, ...,   14,    6,  717],\n",
              "       [   6,  976, 2078, ...,  125,    4, 3077],\n",
              "       [   4, 5673,    7, ...,    9,   57,  975],\n",
              "       ...,\n",
              "       [   0,    0,    0, ...,   21,  846, 5518],\n",
              "       [   0,    1,   11, ..., 2302,    7,  470],\n",
              "       [  56,   96,  346, ...,   34, 2005, 2643]], dtype=int32)"
            ]
          },
          "metadata": {},
          "execution_count": 4
        }
      ],
      "source": [
        "X_train = sequence.pad_sequences(X_train, maxlen=100)\n",
        "X_test = sequence.pad_sequences(X_test, maxlen=100)\n",
        "X_test"
      ]
    },
    {
      "cell_type": "markdown",
      "metadata": {
        "id": "WP5SX8mT6Edb"
      },
      "source": [
        "    Create the neural network\n"
      ]
    },
    {
      "cell_type": "code",
      "execution_count": 7,
      "metadata": {
        "id": "L_D_Ea856Edc"
      },
      "outputs": [],
      "source": [
        "model = Sequential([\n",
        "    Embedding(25000,128),\n",
        "    LSTM(128, dropout=0.25, recurrent_dropout=0.25),\n",
        "    Dense(1, activation='sigmoid')\n",
        "])\n",
        "\n",
        "model.compile(\n",
        "    loss='binary_crossentropy',\n",
        "    optimizer='adam',\n",
        "    metrics=['accuracy']\n",
        ")"
      ]
    },
    {
      "cell_type": "code",
      "execution_count": 8,
      "metadata": {
        "id": "xGU6UvXP6Edc",
        "outputId": "8fdd7ae9-1dfe-4ce2-8ad2-d2a66125a282",
        "colab": {
          "base_uri": "https://localhost:8080/"
        }
      },
      "outputs": [
        {
          "output_type": "stream",
          "name": "stdout",
          "text": [
            "Epoch 1/10\n",
            "782/782 - 308s - loss: 0.4295 - accuracy: 0.7981 - val_loss: 0.3963 - val_accuracy: 0.8400 - 308s/epoch - 393ms/step\n",
            "Epoch 2/10\n",
            "782/782 - 305s - loss: 0.2468 - accuracy: 0.9042 - val_loss: 0.4116 - val_accuracy: 0.8385 - 305s/epoch - 390ms/step\n",
            "Epoch 3/10\n",
            "782/782 - 292s - loss: 0.1495 - accuracy: 0.9459 - val_loss: 0.4983 - val_accuracy: 0.8328 - 292s/epoch - 374ms/step\n",
            "Epoch 4/10\n",
            "782/782 - 292s - loss: 0.0922 - accuracy: 0.9678 - val_loss: 0.4694 - val_accuracy: 0.8328 - 292s/epoch - 373ms/step\n",
            "Epoch 5/10\n",
            "782/782 - 290s - loss: 0.0657 - accuracy: 0.9773 - val_loss: 0.6031 - val_accuracy: 0.8337 - 290s/epoch - 371ms/step\n",
            "Epoch 6/10\n",
            "782/782 - 299s - loss: 0.0451 - accuracy: 0.9854 - val_loss: 0.6824 - val_accuracy: 0.8360 - 299s/epoch - 382ms/step\n",
            "Epoch 7/10\n",
            "782/782 - 296s - loss: 0.0301 - accuracy: 0.9907 - val_loss: 0.7265 - val_accuracy: 0.8296 - 296s/epoch - 379ms/step\n",
            "Epoch 8/10\n",
            "782/782 - 296s - loss: 0.0246 - accuracy: 0.9923 - val_loss: 0.7527 - val_accuracy: 0.8294 - 296s/epoch - 378ms/step\n",
            "Epoch 9/10\n",
            "782/782 - 298s - loss: 0.0244 - accuracy: 0.9923 - val_loss: 0.8116 - val_accuracy: 0.8311 - 298s/epoch - 381ms/step\n",
            "Epoch 10/10\n",
            "782/782 - 294s - loss: 0.0136 - accuracy: 0.9961 - val_loss: 0.8929 - val_accuracy: 0.8314 - 294s/epoch - 376ms/step\n"
          ]
        },
        {
          "output_type": "execute_result",
          "data": {
            "text/plain": [
              "<keras.callbacks.History at 0x7f1512092d90>"
            ]
          },
          "metadata": {},
          "execution_count": 8
        }
      ],
      "source": [
        "model.fit(X_train, y_train, batch_size=32, epochs=10, verbose=2, validation_data=(X_test, y_test))"
      ]
    },
    {
      "cell_type": "code",
      "execution_count": 9,
      "metadata": {
        "id": "BYYh9AYT6Edd",
        "outputId": "3a8a952c-296a-47bd-a1d5-188359f0183c",
        "colab": {
          "base_uri": "https://localhost:8080/"
        }
      },
      "outputs": [
        {
          "output_type": "stream",
          "name": "stdout",
          "text": [
            "782/782 - 27s - loss: 0.8929 - accuracy: 0.8314 - 27s/epoch - 35ms/step\n"
          ]
        }
      ],
      "source": [
        "score, accuracy = model.evaluate(X_test, y_test, batch_size=32, verbose=2)"
      ]
    },
    {
      "cell_type": "code",
      "source": [
        "predictions = model.predict(X_test[:5])\n",
        "predictions"
      ],
      "metadata": {
        "id": "DppXVVBIHCrw",
        "outputId": "f7113a76-ecf5-4725-a0e8-d50c762bc765",
        "colab": {
          "base_uri": "https://localhost:8080/"
        }
      },
      "execution_count": 10,
      "outputs": [
        {
          "output_type": "execute_result",
          "data": {
            "text/plain": [
              "array([[0.8115    ],\n",
              "       [0.99990064],\n",
              "       [0.6722305 ],\n",
              "       [0.69309735],\n",
              "       [0.9999979 ]], dtype=float32)"
            ]
          },
          "metadata": {},
          "execution_count": 10
        }
      ]
    },
    {
      "cell_type": "code",
      "source": [],
      "metadata": {
        "id": "J8oTFj0wRSFP"
      },
      "execution_count": null,
      "outputs": []
    }
  ],
  "metadata": {
    "kernelspec": {
      "display_name": "Python 3.8.9 64-bit",
      "language": "python",
      "name": "python3"
    },
    "language_info": {
      "codemirror_mode": {
        "name": "ipython",
        "version": 3
      },
      "file_extension": ".py",
      "mimetype": "text/x-python",
      "name": "python",
      "nbconvert_exporter": "python",
      "pygments_lexer": "ipython3",
      "version": "3.8.9"
    },
    "orig_nbformat": 4,
    "vscode": {
      "interpreter": {
        "hash": "31f2aee4e71d21fbe5cf8b01ff0e069b9275f58929596ceb00d14d90e3e16cd6"
      }
    },
    "colab": {
      "provenance": []
    }
  },
  "nbformat": 4,
  "nbformat_minor": 0
}