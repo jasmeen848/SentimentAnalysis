{
 "cells": [
  {
   "cell_type": "code",
   "execution_count": 6,
   "metadata": {},
   "outputs": [],
   "source": [
    "from keras.layers import LSTM, Dense, Embedding\n",
    "from keras.models import Sequential\n",
    "from keras.utils import pad_sequences\n",
    "from keras.datasets import imdb"
   ]
  },
  {
   "cell_type": "code",
   "execution_count": 2,
   "metadata": {},
   "outputs": [
    {
     "name": "stdout",
     "output_type": "stream",
     "text": [
      "Downloading data from https://storage.googleapis.com/tensorflow/tf-keras-datasets/imdb.npz\n",
      "17464789/17464789 [==============================] - 2s 0us/step\n"
     ]
    }
   ],
   "source": [
    "(X_train, y_train), (X_test, y_test) = imdb.load_data(num_words=25000)"
   ]
  },
  {
   "cell_type": "code",
   "execution_count": 8,
   "metadata": {},
   "outputs": [
    {
     "data": {
      "text/plain": [
       "array([[   0,    0,    0, ...,   14,    6,  717],\n",
       "       [   6,  976, 2078, ...,  125,    4, 3077],\n",
       "       [   4, 5673,    7, ...,    9,   57,  975],\n",
       "       ...,\n",
       "       [   0,    0,    0, ...,   21,  846, 5518],\n",
       "       [   0,    1,   11, ..., 2302,    7,  470],\n",
       "       [  56,   96,  346, ...,   34, 2005, 2643]], dtype=int32)"
      ]
     },
     "execution_count": 8,
     "metadata": {},
     "output_type": "execute_result"
    }
   ],
   "source": [
    "X_train = pad_sequences(X_train, maxlen=100)\n",
    "X_test = pad_sequences(X_test, maxlen=100)\n",
    "X_test"
   ]
  },
  {
   "cell_type": "markdown",
   "metadata": {},
   "source": [
    "    Create the neural network\n"
   ]
  },
  {
   "cell_type": "code",
   "execution_count": 9,
   "metadata": {},
   "outputs": [],
   "source": [
    "model = Sequential([\n",
    "    Embedding(25000,128),\n",
    "    LSTM(128, dropout=0.25, recurrent_dropout=0.25),\n",
    "    Dense(1, activation='sigmoid')\n",
    "])\n",
    "\n",
    "model.compile(\n",
    "    loss='binary_crossentropy',\n",
    "    optimizer='adam',\n",
    "    metrics=['accuracy']\n",
    ")"
   ]
  },
  {
   "cell_type": "code",
   "execution_count": 11,
   "metadata": {},
   "outputs": [
    {
     "ename": "KeyboardInterrupt",
     "evalue": "",
     "output_type": "error",
     "traceback": [
      "\u001b[0;31m---------------------------------------------------------------------------\u001b[0m",
      "\u001b[0;31mKeyError\u001b[0m                                  Traceback (most recent call last)",
      "File \u001b[0;32m~/Library/Python/3.8/lib/python/site-packages/debugpy/_vendored/pydevd/_pydevd_bundle/pydevd_trace_dispatch_regular.py:394\u001b[0m, in \u001b[0;36mThreadTracer.__call__\u001b[0;34m(self, frame, event, arg)\u001b[0m\n\u001b[1;32m    392\u001b[0m \u001b[39mtry\u001b[39;00m:\n\u001b[1;32m    393\u001b[0m     \u001b[39m# Make fast path faster!\u001b[39;00m\n\u001b[0;32m--> 394\u001b[0m     abs_path_canonical_path_and_base \u001b[39m=\u001b[39m NORM_PATHS_AND_BASE_CONTAINER[frame\u001b[39m.\u001b[39;49mf_code\u001b[39m.\u001b[39;49mco_filename]\n\u001b[1;32m    395\u001b[0m \u001b[39mexcept\u001b[39;00m:\n",
      "\u001b[0;31mKeyError\u001b[0m: '/Users/jasmeen/Library/Python/3.8/lib/python/site-packages/tensorflow/python/distribute/distribute_lib.py'",
      "\nDuring handling of the above exception, another exception occurred:\n",
      "\u001b[0;31mKeyError\u001b[0m                                  Traceback (most recent call last)",
      "File \u001b[0;32m~/Library/Python/3.8/lib/python/site-packages/debugpy/_vendored/pydevd/pydevd_file_utils.py:867\u001b[0m, in \u001b[0;36mget_abs_path_real_path_and_base_from_frame\u001b[0;34m(frame, NORM_PATHS_AND_BASE_CONTAINER)\u001b[0m\n\u001b[1;32m    866\u001b[0m \u001b[39mtry\u001b[39;00m:\n\u001b[0;32m--> 867\u001b[0m     \u001b[39mreturn\u001b[39;00m NORM_PATHS_AND_BASE_CONTAINER[frame\u001b[39m.\u001b[39;49mf_code\u001b[39m.\u001b[39;49mco_filename]\n\u001b[1;32m    868\u001b[0m \u001b[39mexcept\u001b[39;00m:\n\u001b[1;32m    869\u001b[0m     \u001b[39m# This one is just internal (so, does not need any kind of client-server translation)\u001b[39;00m\n",
      "\u001b[0;31mKeyError\u001b[0m: '/Users/jasmeen/Library/Python/3.8/lib/python/site-packages/tensorflow/python/distribute/distribute_lib.py'",
      "\nDuring handling of the above exception, another exception occurred:\n",
      "\u001b[0;31mKeyError\u001b[0m                                  Traceback (most recent call last)",
      "File \u001b[0;32m~/Library/Python/3.8/lib/python/site-packages/debugpy/_vendored/pydevd/pydevd_file_utils.py:831\u001b[0m, in \u001b[0;36mget_abs_path_real_path_and_base_from_file\u001b[0;34m(filename, NORM_PATHS_AND_BASE_CONTAINER)\u001b[0m\n\u001b[1;32m    830\u001b[0m \u001b[39mtry\u001b[39;00m:\n\u001b[0;32m--> 831\u001b[0m     \u001b[39mreturn\u001b[39;00m NORM_PATHS_AND_BASE_CONTAINER[filename]\n\u001b[1;32m    832\u001b[0m \u001b[39mexcept\u001b[39;00m:\n",
      "\u001b[0;31mKeyError\u001b[0m: '/Users/jasmeen/Library/Python/3.8/lib/python/site-packages/tensorflow/python/distribute/distribute_lib.py'",
      "\nDuring handling of the above exception, another exception occurred:\n",
      "\u001b[0;31mKeyError\u001b[0m                                  Traceback (most recent call last)",
      "File \u001b[0;32m~/Library/Python/3.8/lib/python/site-packages/debugpy/_vendored/pydevd/pydevd_file_utils.py:385\u001b[0m, in \u001b[0;36m_abs_and_canonical_path\u001b[0;34m(filename, NORM_PATHS_CONTAINER)\u001b[0m\n\u001b[1;32m    384\u001b[0m \u001b[39mtry\u001b[39;00m:\n\u001b[0;32m--> 385\u001b[0m     \u001b[39mreturn\u001b[39;00m NORM_PATHS_CONTAINER[filename]\n\u001b[1;32m    386\u001b[0m \u001b[39mexcept\u001b[39;00m:\n",
      "\u001b[0;31mKeyError\u001b[0m: '/Users/jasmeen/Library/Python/3.8/lib/python/site-packages/tensorflow/python/distribute/distribute_lib.py'",
      "\nDuring handling of the above exception, another exception occurred:\n",
      "\u001b[0;31mKeyboardInterrupt\u001b[0m                         Traceback (most recent call last)",
      "\u001b[1;32m/Users/jasmeen/JupyterProjects/SentimentAnalysis/SentimentAnalysis.ipynb Cell 6\u001b[0m in \u001b[0;36m<cell line: 1>\u001b[0;34m()\u001b[0m\n\u001b[0;32m----> <a href='vscode-notebook-cell:/Users/jasmeen/JupyterProjects/SentimentAnalysis/SentimentAnalysis.ipynb#W6sZmlsZQ%3D%3D?line=0'>1</a>\u001b[0m model\u001b[39m.\u001b[39;49mfit(X_train, y_train, batch_size\u001b[39m=\u001b[39;49m\u001b[39m32\u001b[39;49m, epochs\u001b[39m=\u001b[39;49m\u001b[39m15\u001b[39;49m, verbose\u001b[39m=\u001b[39;49m\u001b[39m2\u001b[39;49m, validation_data\u001b[39m=\u001b[39;49m(X_test, y_test))\n",
      "File \u001b[0;32m~/Library/Python/3.8/lib/python/site-packages/keras/utils/traceback_utils.py:65\u001b[0m, in \u001b[0;36mfilter_traceback.<locals>.error_handler\u001b[0;34m(*args, **kwargs)\u001b[0m\n\u001b[1;32m     63\u001b[0m filtered_tb \u001b[39m=\u001b[39m \u001b[39mNone\u001b[39;00m\n\u001b[1;32m     64\u001b[0m \u001b[39mtry\u001b[39;00m:\n\u001b[0;32m---> 65\u001b[0m     \u001b[39mreturn\u001b[39;00m fn(\u001b[39m*\u001b[39;49margs, \u001b[39m*\u001b[39;49m\u001b[39m*\u001b[39;49mkwargs)\n\u001b[1;32m     66\u001b[0m \u001b[39mexcept\u001b[39;00m \u001b[39mException\u001b[39;00m \u001b[39mas\u001b[39;00m e:\n\u001b[1;32m     67\u001b[0m     filtered_tb \u001b[39m=\u001b[39m _process_traceback_frames(e\u001b[39m.\u001b[39m__traceback__)\n",
      "File \u001b[0;32m~/Library/Python/3.8/lib/python/site-packages/keras/engine/training.py:1497\u001b[0m, in \u001b[0;36mModel.fit\u001b[0;34m(self, x, y, batch_size, epochs, verbose, callbacks, validation_split, validation_data, shuffle, class_weight, sample_weight, initial_epoch, steps_per_epoch, validation_steps, validation_batch_size, validation_freq, max_queue_size, workers, use_multiprocessing)\u001b[0m\n\u001b[1;32m   1490\u001b[0m \u001b[39mif\u001b[39;00m \u001b[39mself\u001b[39m\u001b[39m.\u001b[39mdistribute_strategy\u001b[39m.\u001b[39m_should_use_with_coordinator:\n\u001b[1;32m   1491\u001b[0m     \u001b[39mself\u001b[39m\u001b[39m.\u001b[39m_cluster_coordinator \u001b[39m=\u001b[39m (\n\u001b[1;32m   1492\u001b[0m         tf\u001b[39m.\u001b[39mdistribute\u001b[39m.\u001b[39mexperimental\u001b[39m.\u001b[39mcoordinator\u001b[39m.\u001b[39mClusterCoordinator(\n\u001b[1;32m   1493\u001b[0m             \u001b[39mself\u001b[39m\u001b[39m.\u001b[39mdistribute_strategy\n\u001b[1;32m   1494\u001b[0m         )\n\u001b[1;32m   1495\u001b[0m     )\n\u001b[0;32m-> 1497\u001b[0m \u001b[39mwith\u001b[39;00m \u001b[39mself\u001b[39;49m\u001b[39m.\u001b[39;49mdistribute_strategy\u001b[39m.\u001b[39;49mscope(), training_utils\u001b[39m.\u001b[39mRespectCompiledTrainableState(  \u001b[39m# noqa: E501\u001b[39;00m\n\u001b[1;32m   1498\u001b[0m     \u001b[39mself\u001b[39m\n\u001b[1;32m   1499\u001b[0m ):\n\u001b[1;32m   1500\u001b[0m     \u001b[39m# Creates a `tf.data.Dataset` and handles batch and epoch iteration.\u001b[39;00m\n\u001b[1;32m   1501\u001b[0m     data_handler \u001b[39m=\u001b[39m data_adapter\u001b[39m.\u001b[39mget_data_handler(\n\u001b[1;32m   1502\u001b[0m         x\u001b[39m=\u001b[39mx,\n\u001b[1;32m   1503\u001b[0m         y\u001b[39m=\u001b[39my,\n\u001b[0;32m   (...)\u001b[0m\n\u001b[1;32m   1515\u001b[0m         steps_per_execution\u001b[39m=\u001b[39m\u001b[39mself\u001b[39m\u001b[39m.\u001b[39m_steps_per_execution,\n\u001b[1;32m   1516\u001b[0m     )\n\u001b[1;32m   1518\u001b[0m     \u001b[39m# Container that configures and calls `tf.keras.Callback`s.\u001b[39;00m\n",
      "File \u001b[0;32m~/Library/Python/3.8/lib/python/site-packages/tensorflow/python/distribute/distribute_lib.py:866\u001b[0m, in \u001b[0;36mStrategyBase.scope\u001b[0;34m(self)\u001b[0m\n\u001b[1;32m    863\u001b[0m     \u001b[39mself\u001b[39m\u001b[39m.\u001b[39m_scale_loss_for_estimator \u001b[39m=\u001b[39m \u001b[39mFalse\u001b[39;00m\n\u001b[1;32m    865\u001b[0m \u001b[39m# pylint: disable=line-too-long\u001b[39;00m\n\u001b[0;32m--> 866\u001b[0m \u001b[39mdef\u001b[39;00m \u001b[39mscope\u001b[39m(\u001b[39mself\u001b[39m):\n\u001b[1;32m    867\u001b[0m   \u001b[39m\"\"\"Context manager to make the strategy current and distribute variables.\u001b[39;00m\n\u001b[1;32m    868\u001b[0m \n\u001b[1;32m    869\u001b[0m \u001b[39m  This method returns a context manager, and is used as follows:\u001b[39;00m\n\u001b[0;32m   (...)\u001b[0m\n\u001b[1;32m    956\u001b[0m \u001b[39m    A context manager.\u001b[39;00m\n\u001b[1;32m    957\u001b[0m \u001b[39m  \"\"\"\u001b[39;00m\n\u001b[1;32m    958\u001b[0m   \u001b[39mreturn\u001b[39;00m \u001b[39mself\u001b[39m\u001b[39m.\u001b[39m_extended\u001b[39m.\u001b[39m_scope(\u001b[39mself\u001b[39m)  \u001b[39m# pylint: disable=protected-access\u001b[39;00m\n",
      "File \u001b[0;32m~/Library/Python/3.8/lib/python/site-packages/debugpy/_vendored/pydevd/_pydevd_bundle/pydevd_trace_dispatch_regular.py:396\u001b[0m, in \u001b[0;36mThreadTracer.__call__\u001b[0;34m(self, frame, event, arg)\u001b[0m\n\u001b[1;32m    394\u001b[0m     abs_path_canonical_path_and_base \u001b[39m=\u001b[39m NORM_PATHS_AND_BASE_CONTAINER[frame\u001b[39m.\u001b[39mf_code\u001b[39m.\u001b[39mco_filename]\n\u001b[1;32m    395\u001b[0m \u001b[39mexcept\u001b[39;00m:\n\u001b[0;32m--> 396\u001b[0m     abs_path_canonical_path_and_base \u001b[39m=\u001b[39m get_abs_path_real_path_and_base_from_frame(frame)\n\u001b[1;32m    398\u001b[0m file_type \u001b[39m=\u001b[39m py_db\u001b[39m.\u001b[39mget_file_type(frame, abs_path_canonical_path_and_base)  \u001b[39m# we don't want to debug threading or anything related to pydevd\u001b[39;00m\n\u001b[1;32m    400\u001b[0m \u001b[39mif\u001b[39;00m file_type \u001b[39mis\u001b[39;00m \u001b[39mnot\u001b[39;00m \u001b[39mNone\u001b[39;00m:\n",
      "File \u001b[0;32m~/Library/Python/3.8/lib/python/site-packages/debugpy/_vendored/pydevd/pydevd_file_utils.py:885\u001b[0m, in \u001b[0;36mget_abs_path_real_path_and_base_from_frame\u001b[0;34m(frame, NORM_PATHS_AND_BASE_CONTAINER)\u001b[0m\n\u001b[1;32m    882\u001b[0m     i \u001b[39m=\u001b[39m \u001b[39mmax\u001b[39m(f\u001b[39m.\u001b[39mrfind(\u001b[39m'\u001b[39m\u001b[39m/\u001b[39m\u001b[39m'\u001b[39m), f\u001b[39m.\u001b[39mrfind(\u001b[39m'\u001b[39m\u001b[39m\\\\\u001b[39;00m\u001b[39m'\u001b[39m))\n\u001b[1;32m    883\u001b[0m     \u001b[39mreturn\u001b[39;00m f, f, f[i \u001b[39m+\u001b[39m \u001b[39m1\u001b[39m:]\n\u001b[0;32m--> 885\u001b[0m ret \u001b[39m=\u001b[39m get_abs_path_real_path_and_base_from_file(f)\n\u001b[1;32m    886\u001b[0m \u001b[39m# Also cache based on the frame.f_code.co_filename (if we had it inside build/bdist it can make a difference).\u001b[39;00m\n\u001b[1;32m    887\u001b[0m NORM_PATHS_AND_BASE_CONTAINER[frame\u001b[39m.\u001b[39mf_code\u001b[39m.\u001b[39mco_filename] \u001b[39m=\u001b[39m ret\n",
      "File \u001b[0;32m~/Library/Python/3.8/lib/python/site-packages/debugpy/_vendored/pydevd/pydevd_file_utils.py:852\u001b[0m, in \u001b[0;36mget_abs_path_real_path_and_base_from_file\u001b[0;34m(filename, NORM_PATHS_AND_BASE_CONTAINER)\u001b[0m\n\u001b[1;32m    849\u001b[0m     \u001b[39melif\u001b[39;00m f\u001b[39m.\u001b[39mendswith(\u001b[39m'\u001b[39m\u001b[39m$py.class\u001b[39m\u001b[39m'\u001b[39m):\n\u001b[1;32m    850\u001b[0m         f \u001b[39m=\u001b[39m f[:\u001b[39m-\u001b[39m\u001b[39mlen\u001b[39m(\u001b[39m'\u001b[39m\u001b[39m$py.class\u001b[39m\u001b[39m'\u001b[39m)] \u001b[39m+\u001b[39m \u001b[39m'\u001b[39m\u001b[39m.py\u001b[39m\u001b[39m'\u001b[39m\n\u001b[0;32m--> 852\u001b[0m abs_path, canonical_normalized_filename \u001b[39m=\u001b[39m _abs_and_canonical_path(f)\n\u001b[1;32m    854\u001b[0m \u001b[39mtry\u001b[39;00m:\n\u001b[1;32m    855\u001b[0m     base \u001b[39m=\u001b[39m os_path_basename(canonical_normalized_filename)\n",
      "File \u001b[0;32m~/Library/Python/3.8/lib/python/site-packages/debugpy/_vendored/pydevd/pydevd_file_utils.py:411\u001b[0m, in \u001b[0;36m_abs_and_canonical_path\u001b[0;34m(filename, NORM_PATHS_CONTAINER)\u001b[0m\n\u001b[1;32m    408\u001b[0m abs_path \u001b[39m=\u001b[39m _apply_func_and_normalize_case(filename, os_path_abspath, isabs, normalize)\n\u001b[1;32m    410\u001b[0m normalize \u001b[39m=\u001b[39m \u001b[39mTrue\u001b[39;00m\n\u001b[0;32m--> 411\u001b[0m real_path \u001b[39m=\u001b[39m _apply_func_and_normalize_case(filename, os_path_real_path, isabs, normalize)\n\u001b[1;32m    413\u001b[0m \u001b[39m# cache it for fast access later\u001b[39;00m\n\u001b[1;32m    414\u001b[0m NORM_PATHS_CONTAINER[filename] \u001b[39m=\u001b[39m abs_path, real_path\n",
      "File \u001b[0;32m~/Library/Python/3.8/lib/python/site-packages/debugpy/_vendored/pydevd/pydevd_file_utils.py:438\u001b[0m, in \u001b[0;36m_apply_func_and_normalize_case\u001b[0;34m(filename, func, isabs, normalize_case, os_path_exists, join)\u001b[0m\n\u001b[1;32m    433\u001b[0m \u001b[39mif\u001b[39;00m filename\u001b[39m.\u001b[39mstartswith(\u001b[39m'\u001b[39m\u001b[39m<\u001b[39m\u001b[39m'\u001b[39m):\n\u001b[1;32m    434\u001b[0m     \u001b[39m# Not really a file, rather a synthetic name like <string> or <ipython-...>;\u001b[39;00m\n\u001b[1;32m    435\u001b[0m     \u001b[39m# shouldn't be normalized.\u001b[39;00m\n\u001b[1;32m    436\u001b[0m     \u001b[39mreturn\u001b[39;00m filename\n\u001b[0;32m--> 438\u001b[0m r \u001b[39m=\u001b[39m func(filename)\n\u001b[1;32m    440\u001b[0m \u001b[39mif\u001b[39;00m \u001b[39mnot\u001b[39;00m isabs:\n\u001b[1;32m    441\u001b[0m     \u001b[39mif\u001b[39;00m \u001b[39mnot\u001b[39;00m os_path_exists(r):\n",
      "File \u001b[0;32m/Applications/Xcode.app/Contents/Developer/Library/Frameworks/Python3.framework/Versions/3.8/lib/python3.8/posixpath.py:391\u001b[0m, in \u001b[0;36mrealpath\u001b[0;34m(filename)\u001b[0m\n\u001b[1;32m    388\u001b[0m     \u001b[39m\"\"\"Return the canonical path of the specified filename, eliminating any\u001b[39;00m\n\u001b[1;32m    389\u001b[0m \u001b[39msymbolic links encountered in the path.\"\"\"\u001b[39;00m\n\u001b[1;32m    390\u001b[0m     filename \u001b[39m=\u001b[39m os\u001b[39m.\u001b[39mfspath(filename)\n\u001b[0;32m--> 391\u001b[0m     path, ok \u001b[39m=\u001b[39m _joinrealpath(filename[:\u001b[39m0\u001b[39;49m], filename, {})\n\u001b[1;32m    392\u001b[0m     \u001b[39mreturn\u001b[39;00m abspath(path)\n",
      "File \u001b[0;32m/Applications/Xcode.app/Contents/Developer/Library/Frameworks/Python3.framework/Versions/3.8/lib/python3.8/posixpath.py:425\u001b[0m, in \u001b[0;36m_joinrealpath\u001b[0;34m(path, rest, seen)\u001b[0m\n\u001b[1;32m    423\u001b[0m     \u001b[39mcontinue\u001b[39;00m\n\u001b[1;32m    424\u001b[0m newpath \u001b[39m=\u001b[39m join(path, name)\n\u001b[0;32m--> 425\u001b[0m \u001b[39mif\u001b[39;00m \u001b[39mnot\u001b[39;00m islink(newpath):\n\u001b[1;32m    426\u001b[0m     path \u001b[39m=\u001b[39m newpath\n\u001b[1;32m    427\u001b[0m     \u001b[39mcontinue\u001b[39;00m\n",
      "File \u001b[0;32m/Applications/Xcode.app/Contents/Developer/Library/Frameworks/Python3.framework/Versions/3.8/lib/python3.8/posixpath.py:167\u001b[0m, in \u001b[0;36mislink\u001b[0;34m(path)\u001b[0m\n\u001b[1;32m    165\u001b[0m \u001b[39m\"\"\"Test whether a path is a symbolic link\"\"\"\u001b[39;00m\n\u001b[1;32m    166\u001b[0m \u001b[39mtry\u001b[39;00m:\n\u001b[0;32m--> 167\u001b[0m     st \u001b[39m=\u001b[39m os\u001b[39m.\u001b[39;49mlstat(path)\n\u001b[1;32m    168\u001b[0m \u001b[39mexcept\u001b[39;00m (\u001b[39mOSError\u001b[39;00m, \u001b[39mValueError\u001b[39;00m, \u001b[39mAttributeError\u001b[39;00m):\n\u001b[1;32m    169\u001b[0m     \u001b[39mreturn\u001b[39;00m \u001b[39mFalse\u001b[39;00m\n",
      "\u001b[0;31mKeyboardInterrupt\u001b[0m: "
     ]
    }
   ],
   "source": [
    "model.fit(X_train, y_train, batch_size=32, epochs=15, verbose=2, validation_data=(X_test, y_test))"
   ]
  },
  {
   "cell_type": "code",
   "execution_count": null,
   "metadata": {},
   "outputs": [],
   "source": []
  }
 ],
 "metadata": {
  "kernelspec": {
   "display_name": "Python 3.8.9 64-bit",
   "language": "python",
   "name": "python3"
  },
  "language_info": {
   "codemirror_mode": {
    "name": "ipython",
    "version": 3
   },
   "file_extension": ".py",
   "mimetype": "text/x-python",
   "name": "python",
   "nbconvert_exporter": "python",
   "pygments_lexer": "ipython3",
   "version": "3.8.9"
  },
  "orig_nbformat": 4,
  "vscode": {
   "interpreter": {
    "hash": "31f2aee4e71d21fbe5cf8b01ff0e069b9275f58929596ceb00d14d90e3e16cd6"
   }
  }
 },
 "nbformat": 4,
 "nbformat_minor": 2
}
